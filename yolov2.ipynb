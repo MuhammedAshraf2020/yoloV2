{
  "nbformat": 4,
  "nbformat_minor": 0,
  "metadata": {
    "colab": {
      "name": "yolov2.ipynb",
      "provenance": [],
      "collapsed_sections": [],
      "authorship_tag": "ABX9TyPdB7P6ZH5nbUNTxF1oC9nd",
      "include_colab_link": true
    },
    "kernelspec": {
      "name": "python3",
      "display_name": "Python 3"
    }
  },
  "cells": [
    {
      "cell_type": "markdown",
      "metadata": {
        "id": "view-in-github",
        "colab_type": "text"
      },
      "source": [
        "<a href=\"https://colab.research.google.com/github/MuhammedAshraf2020/yoloV2/blob/main/yolov2.ipynb\" target=\"_parent\"><img src=\"https://colab.research.google.com/assets/colab-badge.svg\" alt=\"Open In Colab\"/></a>"
      ]
    },
    {
      "cell_type": "code",
      "metadata": {
        "colab": {
          "base_uri": "https://localhost:8080/"
        },
        "id": "7E1ucdBXhrYW",
        "outputId": "643cb325-2747-457f-bcd3-922599fd44d5"
      },
      "source": [
        "from google.colab import drive\r\n",
        "drive.mount(\"/content/drive\")"
      ],
      "execution_count": 10,
      "outputs": [
        {
          "output_type": "stream",
          "text": [
            "Mounted at /content/drive\n"
          ],
          "name": "stdout"
        }
      ]
    },
    {
      "cell_type": "code",
      "metadata": {
        "id": "1H8Tl5v7iATp"
      },
      "source": [
        "cp -f /content/drive/MyDrive/yolo.h5 /content/"
      ],
      "execution_count": 11,
      "outputs": []
    },
    {
      "cell_type": "code",
      "metadata": {
        "colab": {
          "base_uri": "https://localhost:8080/"
        },
        "id": "NHTyAqYjl5Bn",
        "outputId": "31032f2c-8e59-42f2-a94d-63d5fb3dd007"
      },
      "source": [
        "!git clone https://github.com/MuhammedAshraf2020/object_detection"
      ],
      "execution_count": 40,
      "outputs": [
        {
          "output_type": "stream",
          "text": [
            "Cloning into 'object_detection'...\n",
            "remote: Enumerating objects: 31, done.\u001b[K\n",
            "remote: Counting objects: 100% (31/31), done.\u001b[K\n",
            "remote: Compressing objects: 100% (26/26), done.\u001b[K\n",
            "remote: Total 31 (delta 5), reused 0 (delta 0), pack-reused 0\u001b[K\n",
            "Unpacking objects: 100% (31/31), done.\n"
          ],
          "name": "stdout"
        }
      ]
    },
    {
      "cell_type": "code",
      "metadata": {
        "id": "31JXXyDnmB3A"
      },
      "source": [
        "cp -r /content/object_detection/font /content/"
      ],
      "execution_count": 42,
      "outputs": []
    },
    {
      "cell_type": "code",
      "metadata": {
        "id": "-FZnZM1Fd_tn"
      },
      "source": [
        "import numpy as np\r\n",
        "import os\r\n",
        "from yolo import yolo_head , yolo_eval , predict\r\n",
        "from tensorflow.compat.v1.keras.models import load_model\r\n",
        "import tensorflow.compat.v1.keras.backend as K\r\n",
        "import tensorflow as tf\r\n",
        "import matplotlib.pyplot as plt\r\n",
        "from yolo_utils import read_classes, read_anchors, generate_colors, preprocess_image, draw_boxes, scale_boxes"
      ],
      "execution_count": 48,
      "outputs": []
    },
    {
      "cell_type": "code",
      "metadata": {
        "id": "FO4jFnVRhId2"
      },
      "source": [
        "class_names = ['person','bicycle','car','motorbike','aeroplane','bus','train','truck','boat','traffic light','fire hydrant','stop sign','parking meter','bench','bird','cat','dog',\r\n",
        " 'horse','sheep','cow','elephant', 'bear','zebra','giraffe','backpack','umbrella','handbag','tie','suitcase',\r\n",
        " 'frisbee','skis','snowboard','sports ball','kite','baseball bat','baseball glove','skateboard','surfboard','tennis racket','bottle','wine glass','cup','fork','knife','spoon','bowl','banana','apple','sandwich','orange','broccoli','carrot','hot dog','pizza','donut','cake','chair','sofa','pottedplant','bed','diningtable','toilet','tvmonitor','laptop','mouse','remote','keyboard','cell phone',\r\n",
        " 'microwave','oven','toaster','sink','refrigerator','book','clock','vase','scissors','teddy bear','hair drier','toothbrush']\r\n",
        "\r\n",
        "\r\n",
        "anchors = np.array([\r\n",
        "       [ 0.57273 ,  0.677385],\r\n",
        "       [ 1.87446 ,  2.06253 ],\r\n",
        "       [ 3.33843 ,  5.47434 ],\r\n",
        "       [ 7.88282 ,  3.52778 ],\r\n",
        "       [ 9.77052 ,  9.16828 ]])\r\n"
      ],
      "execution_count": 7,
      "outputs": []
    },
    {
      "cell_type": "code",
      "metadata": {
        "colab": {
          "base_uri": "https://localhost:8080/"
        },
        "id": "sAPIKNXrhWs4",
        "outputId": "8e5460f3-0a8e-4b36-ced6-30e12bca0e49"
      },
      "source": [
        "yolo_model = load_model(\"yolo.h5\")"
      ],
      "execution_count": 25,
      "outputs": [
        {
          "output_type": "stream",
          "text": [
            "/usr/local/lib/python3.6/dist-packages/tensorflow/python/keras/layers/core.py:1059: UserWarning: yad2k.models.keras_yolo is not loaded, but a Lambda layer uses it. It may cause errors.\n",
            "  , UserWarning)\n"
          ],
          "name": "stderr"
        },
        {
          "output_type": "stream",
          "text": [
            "WARNING:tensorflow:No training configuration found in the save file, so the model was *not* compiled. Compile it manually.\n"
          ],
          "name": "stdout"
        }
      ]
    },
    {
      "cell_type": "code",
      "metadata": {
        "id": "XXo1uYIoiXuG"
      },
      "source": [
        "sess = K.get_session()"
      ],
      "execution_count": 21,
      "outputs": []
    },
    {
      "cell_type": "code",
      "metadata": {
        "id": "rumORZgji4D-"
      },
      "source": [
        "tf.compat.v1.disable_eager_execution()"
      ],
      "execution_count": 23,
      "outputs": []
    },
    {
      "cell_type": "code",
      "metadata": {
        "id": "UgtYzcIFjIf_"
      },
      "source": [
        "feats = yolo_model.output"
      ],
      "execution_count": 26,
      "outputs": []
    },
    {
      "cell_type": "code",
      "metadata": {
        "id": "Zc4JMsFijnEd"
      },
      "source": [
        "yolo_outputs = yolo_head(feats , anchors, len(class_names))"
      ],
      "execution_count": 27,
      "outputs": []
    },
    {
      "cell_type": "code",
      "metadata": {
        "id": "WXsdvPDTj0ud"
      },
      "source": [
        "image_shape = (720. , 1280.)"
      ],
      "execution_count": 146,
      "outputs": []
    },
    {
      "cell_type": "code",
      "metadata": {
        "id": "_Ta8yJl4j6FZ"
      },
      "source": [
        "scores, boxes, classes = yolo_eval(yolo_outputs, image_shape , max_boxes = 15 , score_threshold = 0.6)"
      ],
      "execution_count": 148,
      "outputs": []
    },
    {
      "cell_type": "code",
      "metadata": {
        "id": "YkwJlEfylXgP"
      },
      "source": [
        "def predict(sess, image_file):\r\n",
        "\r\n",
        "    image, image_data = preprocess_image(image_file, model_image_size = (608, 608))\r\n",
        "\r\n",
        "    out_scores, out_boxes, out_classes = sess.run([scores , boxes, classes], feed_dict={yolo_model.input: image_data,\r\n",
        "                                                                                        K.learning_phase(): 0})\r\n",
        "\r\n",
        "    colors = generate_colors(class_names)\r\n",
        "\r\n",
        "    draw_boxes(image, out_scores, out_boxes, out_classes, class_names, colors)\r\n",
        "\r\n",
        "    image.save(os.path.join(\"out\", image_file), quality=90)\r\n",
        "    \r\n",
        "    return out_scores, out_boxes, out_classes"
      ],
      "execution_count": 150,
      "outputs": []
    },
    {
      "cell_type": "code",
      "metadata": {
        "id": "33gthfZoukb5"
      },
      "source": [
        "import cv2 \r\n",
        "import os \r\n",
        "cam = cv2.VideoCapture(\"/content/drive/MyDrive/videot.mp4\") \r\n",
        "currentframe = 0\r\n",
        "  \r\n",
        "while(True): \r\n",
        "      \r\n",
        "    # reading from frame \r\n",
        "    ret,frame = cam.read()\r\n",
        "    if ret: \r\n",
        "        # if video is still left continue creating images \r\n",
        "        name = '/content/images5/'+ str(currentframe + 100) + '.jpg'\r\n",
        "        print ('Creating...' + name) \r\n",
        "  \r\n",
        "        # writing the extracted images \r\n",
        "        cv2.imwrite(name, frame) \r\n",
        "  \r\n",
        "        # increasing counter so that it will \r\n",
        "        # show how many frames are created \r\n",
        "        currentframe += 1\r\n",
        "    else: \r\n",
        "        break\r\n",
        "  \r\n",
        "# Release all space and windows once done \r\n",
        "cam.release() \r\n",
        "cv2.destroyAllWindows() "
      ],
      "execution_count": null,
      "outputs": []
    },
    {
      "cell_type": "code",
      "metadata": {
        "id": "IFsmd3uW7Quu"
      },
      "source": [
        "for i in tqdm(os.listdir(\"/content/images5\")):\r\n",
        "  predict(sess , \"/content/images5\" + \"/\" + i)"
      ],
      "execution_count": null,
      "outputs": []
    },
    {
      "cell_type": "code",
      "metadata": {
        "id": "4puBRG7KBmWS"
      },
      "source": [
        "import cv2\r\n",
        "import numpy as np\r\n",
        "import glob\r\n",
        "path_save = \"/content/detected\"\r\n",
        "fbs = 10\r\n",
        "img_array = []\r\n",
        "for i in range(100 , 1502):\r\n",
        "    filename =  \"/content/images5/{s}.jpg\".format(s = i)\r\n",
        "    img = cv2.imread(filename)\r\n",
        "    height, width, layers = img.shape\r\n",
        "    size = (width,height)\r\n",
        "    img_array.append(img)\r\n",
        " \r\n",
        " \r\n",
        "out = cv2.VideoWriter(path_save + \"/\" +'project4.avi',cv2.VideoWriter_fourcc(*'DIVX'), 24 , size)\r\n",
        " \r\n",
        "for i in range(len(img_array)):\r\n",
        "    out.write(img_array[i])\r\n",
        "out.release()"
      ],
      "execution_count": 157,
      "outputs": []
    },
    {
      "cell_type": "code",
      "metadata": {
        "id": "gFrxzs6gDQq2"
      },
      "source": [
        "cp /content/detected/project3.avi /content/drive/MyDrive"
      ],
      "execution_count": 119,
      "outputs": []
    },
    {
      "cell_type": "code",
      "metadata": {
        "id": "ZShWqXBQGAkF"
      },
      "source": [
        "!rm -r /content/images"
      ],
      "execution_count": 123,
      "outputs": []
    },
    {
      "cell_type": "code",
      "metadata": {
        "id": "pR5OLMtrt94Q"
      },
      "source": [
        "cp /content/detected/project4.avi /content/drive/MyDrive"
      ],
      "execution_count": 158,
      "outputs": []
    }
  ]
}